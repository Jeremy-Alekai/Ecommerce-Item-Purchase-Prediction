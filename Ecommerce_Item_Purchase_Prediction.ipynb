{
  "cells": [
    {
      "cell_type": "markdown",
      "metadata": {
        "id": "view-in-github",
        "colab_type": "text"
      },
      "source": [
        "<a href=\"https://colab.research.google.com/github/Jeremy-Alekai/Ecommerce-Item-Purchase-Prediction/blob/main/Ecommerce_Item_Purchase_Prediction.ipynb\" target=\"_parent\"><img src=\"https://colab.research.google.com/assets/colab-badge.svg\" alt=\"Open In Colab\"/></a>"
      ]
    },
    {
      "cell_type": "markdown",
      "metadata": {
        "id": "3PwrCCoZTXxJ"
      },
      "source": [
        "**INTRODUCTIONS**"
      ]
    },
    {
      "cell_type": "markdown",
      "metadata": {
        "id": "ohL0sqdfYj55"
      },
      "source": [
        "Source: https://archive.ics.uci.edu/ml/datasets/Online+Shoppers+Purchasing+Intention+Dataset"
      ]
    },
    {
      "cell_type": "markdown",
      "metadata": {
        "id": "lJ7_28pEYvwE"
      },
      "source": [
        "**Source of data:**\n",
        "\n",
        "This dataset is sourced from the UCI Machine Learning Repository, a public repository of machine learning datasets."
      ]
    },
    {
      "cell_type": "markdown",
      "metadata": {
        "id": "aLlH5CwuZEuj"
      },
      "source": [
        "\n",
        "**Brief description of data:**\n",
        "\n",
        "This dataset contains information on online shoppers' purchasing behavior, including various features such as the type of product, whether the user is a returning visitor, the time of day and week, the duration of the session, and various page views and interactions."
      ]
    },
    {
      "cell_type": "markdown",
      "metadata": {
        "id": "eCbqhhdpZI5M"
      },
      "source": [
        "**What is the target?**\n",
        "\n",
        "The target could be to predict whether an online shopper is likely to make a purchase or not based on various features such as product type, user behavior, and session duration.\n"
      ]
    },
    {
      "cell_type": "markdown",
      "metadata": {
        "id": "uew8E_SYZQVP"
      },
      "source": [
        "**Is this a classification or regression problem?** \n",
        "\n",
        "This is a classification problem."
      ]
    },
    {
      "cell_type": "markdown",
      "metadata": {
        "id": "OGMJGGePZXYR"
      },
      "source": [
        "**How many features?** \n",
        "\n",
        "There are several features including the type of product, whether the user is a returning visitor, the time of day and week, the duration of the session, and various page views and interactions."
      ]
    },
    {
      "cell_type": "markdown",
      "metadata": {
        "id": "Z7QUWETLZdAB"
      },
      "source": [
        "**How many rows of data?** \n",
        "\n",
        "The dataset contains 12330 rows of data."
      ]
    },
    {
      "cell_type": "markdown",
      "metadata": {
        "id": "ffhsdJfKZi9W"
      },
      "source": [
        "**What, if any, challenges do you foresee in cleaning, exploring, or modeling with this dataset?**\n",
        "\n",
        "Some challenges that could be encountered include missing values, inconsistent data formats, and outliers in the data. Additionally, the dataset contains a large number of categorical features, which may need to be appropriately encoded for modeling purposes."
      ]
    },
    {
      "cell_type": "code",
      "execution_count": null,
      "metadata": {
        "colab": {
          "base_uri": "https://localhost:8080/"
        },
        "id": "bVbNQ-5sfqEr",
        "outputId": "ea204e67-43db-4b6a-aeaf-e55d98b66470"
      },
      "outputs": [
        {
          "name": "stdout",
          "output_type": "stream",
          "text": [
            "Drive already mounted at /content/drive; to attempt to forcibly remount, call drive.mount(\"/content/drive\", force_remount=True).\n"
          ]
        }
      ],
      "source": [
        "from google.colab import drive\n",
        "drive.mount('/content/drive')"
      ]
    },
    {
      "cell_type": "code",
      "execution_count": null,
      "metadata": {
        "id": "k2HYGe6D0RAY"
      },
      "outputs": [],
      "source": [
        "import pandas as pd\n",
        "import numpy as np"
      ]
    },
    {
      "cell_type": "code",
      "execution_count": null,
      "metadata": {
        "id": "Bb7-hEgvgxWK"
      },
      "outputs": [],
      "source": [
        "\n",
        "filename = '/content/drive/MyDrive/Colab Notebooks/Coding Dojo/Project 2/online_shoppers_intention.csv'\n",
        "df = pd.read_csv(filename)"
      ]
    },
    {
      "cell_type": "code",
      "execution_count": null,
      "metadata": {
        "colab": {
          "base_uri": "https://localhost:8080/",
          "height": 270
        },
        "id": "7ommDDg-k7w7",
        "outputId": "ed30b747-ba99-4a97-97a7-8b2f16dc1fbe"
      },
      "outputs": [
        {
          "data": {
            "text/html": [
              "\n",
              "  <div id=\"df-61ce74f5-95c5-4d34-8bd6-957fc27fbf09\">\n",
              "    <div class=\"colab-df-container\">\n",
              "      <div>\n",
              "<style scoped>\n",
              "    .dataframe tbody tr th:only-of-type {\n",
              "        vertical-align: middle;\n",
              "    }\n",
              "\n",
              "    .dataframe tbody tr th {\n",
              "        vertical-align: top;\n",
              "    }\n",
              "\n",
              "    .dataframe thead th {\n",
              "        text-align: right;\n",
              "    }\n",
              "</style>\n",
              "<table border=\"1\" class=\"dataframe\">\n",
              "  <thead>\n",
              "    <tr style=\"text-align: right;\">\n",
              "      <th></th>\n",
              "      <th>Administrative</th>\n",
              "      <th>Administrative_Duration</th>\n",
              "      <th>Informational</th>\n",
              "      <th>Informational_Duration</th>\n",
              "      <th>ProductRelated</th>\n",
              "      <th>ProductRelated_Duration</th>\n",
              "      <th>BounceRates</th>\n",
              "      <th>ExitRates</th>\n",
              "      <th>PageValues</th>\n",
              "      <th>SpecialDay</th>\n",
              "      <th>Month</th>\n",
              "      <th>OperatingSystems</th>\n",
              "      <th>Browser</th>\n",
              "      <th>Region</th>\n",
              "      <th>TrafficType</th>\n",
              "      <th>VisitorType</th>\n",
              "      <th>Weekend</th>\n",
              "      <th>Revenue</th>\n",
              "    </tr>\n",
              "  </thead>\n",
              "  <tbody>\n",
              "    <tr>\n",
              "      <th>0</th>\n",
              "      <td>0</td>\n",
              "      <td>0.0</td>\n",
              "      <td>0</td>\n",
              "      <td>0.0</td>\n",
              "      <td>1</td>\n",
              "      <td>0.000000</td>\n",
              "      <td>0.20</td>\n",
              "      <td>0.20</td>\n",
              "      <td>0.0</td>\n",
              "      <td>0.0</td>\n",
              "      <td>Feb</td>\n",
              "      <td>1</td>\n",
              "      <td>1</td>\n",
              "      <td>1</td>\n",
              "      <td>1</td>\n",
              "      <td>Returning_Visitor</td>\n",
              "      <td>False</td>\n",
              "      <td>False</td>\n",
              "    </tr>\n",
              "    <tr>\n",
              "      <th>1</th>\n",
              "      <td>0</td>\n",
              "      <td>0.0</td>\n",
              "      <td>0</td>\n",
              "      <td>0.0</td>\n",
              "      <td>2</td>\n",
              "      <td>64.000000</td>\n",
              "      <td>0.00</td>\n",
              "      <td>0.10</td>\n",
              "      <td>0.0</td>\n",
              "      <td>0.0</td>\n",
              "      <td>Feb</td>\n",
              "      <td>2</td>\n",
              "      <td>2</td>\n",
              "      <td>1</td>\n",
              "      <td>2</td>\n",
              "      <td>Returning_Visitor</td>\n",
              "      <td>False</td>\n",
              "      <td>False</td>\n",
              "    </tr>\n",
              "    <tr>\n",
              "      <th>2</th>\n",
              "      <td>0</td>\n",
              "      <td>0.0</td>\n",
              "      <td>0</td>\n",
              "      <td>0.0</td>\n",
              "      <td>1</td>\n",
              "      <td>0.000000</td>\n",
              "      <td>0.20</td>\n",
              "      <td>0.20</td>\n",
              "      <td>0.0</td>\n",
              "      <td>0.0</td>\n",
              "      <td>Feb</td>\n",
              "      <td>4</td>\n",
              "      <td>1</td>\n",
              "      <td>9</td>\n",
              "      <td>3</td>\n",
              "      <td>Returning_Visitor</td>\n",
              "      <td>False</td>\n",
              "      <td>False</td>\n",
              "    </tr>\n",
              "    <tr>\n",
              "      <th>3</th>\n",
              "      <td>0</td>\n",
              "      <td>0.0</td>\n",
              "      <td>0</td>\n",
              "      <td>0.0</td>\n",
              "      <td>2</td>\n",
              "      <td>2.666667</td>\n",
              "      <td>0.05</td>\n",
              "      <td>0.14</td>\n",
              "      <td>0.0</td>\n",
              "      <td>0.0</td>\n",
              "      <td>Feb</td>\n",
              "      <td>3</td>\n",
              "      <td>2</td>\n",
              "      <td>2</td>\n",
              "      <td>4</td>\n",
              "      <td>Returning_Visitor</td>\n",
              "      <td>False</td>\n",
              "      <td>False</td>\n",
              "    </tr>\n",
              "    <tr>\n",
              "      <th>4</th>\n",
              "      <td>0</td>\n",
              "      <td>0.0</td>\n",
              "      <td>0</td>\n",
              "      <td>0.0</td>\n",
              "      <td>10</td>\n",
              "      <td>627.500000</td>\n",
              "      <td>0.02</td>\n",
              "      <td>0.05</td>\n",
              "      <td>0.0</td>\n",
              "      <td>0.0</td>\n",
              "      <td>Feb</td>\n",
              "      <td>3</td>\n",
              "      <td>3</td>\n",
              "      <td>1</td>\n",
              "      <td>4</td>\n",
              "      <td>Returning_Visitor</td>\n",
              "      <td>True</td>\n",
              "      <td>False</td>\n",
              "    </tr>\n",
              "  </tbody>\n",
              "</table>\n",
              "</div>\n",
              "      <button class=\"colab-df-convert\" onclick=\"convertToInteractive('df-61ce74f5-95c5-4d34-8bd6-957fc27fbf09')\"\n",
              "              title=\"Convert this dataframe to an interactive table.\"\n",
              "              style=\"display:none;\">\n",
              "        \n",
              "  <svg xmlns=\"http://www.w3.org/2000/svg\" height=\"24px\"viewBox=\"0 0 24 24\"\n",
              "       width=\"24px\">\n",
              "    <path d=\"M0 0h24v24H0V0z\" fill=\"none\"/>\n",
              "    <path d=\"M18.56 5.44l.94 2.06.94-2.06 2.06-.94-2.06-.94-.94-2.06-.94 2.06-2.06.94zm-11 1L8.5 8.5l.94-2.06 2.06-.94-2.06-.94L8.5 2.5l-.94 2.06-2.06.94zm10 10l.94 2.06.94-2.06 2.06-.94-2.06-.94-.94-2.06-.94 2.06-2.06.94z\"/><path d=\"M17.41 7.96l-1.37-1.37c-.4-.4-.92-.59-1.43-.59-.52 0-1.04.2-1.43.59L10.3 9.45l-7.72 7.72c-.78.78-.78 2.05 0 2.83L4 21.41c.39.39.9.59 1.41.59.51 0 1.02-.2 1.41-.59l7.78-7.78 2.81-2.81c.8-.78.8-2.07 0-2.86zM5.41 20L4 18.59l7.72-7.72 1.47 1.35L5.41 20z\"/>\n",
              "  </svg>\n",
              "      </button>\n",
              "      \n",
              "  <style>\n",
              "    .colab-df-container {\n",
              "      display:flex;\n",
              "      flex-wrap:wrap;\n",
              "      gap: 12px;\n",
              "    }\n",
              "\n",
              "    .colab-df-convert {\n",
              "      background-color: #E8F0FE;\n",
              "      border: none;\n",
              "      border-radius: 50%;\n",
              "      cursor: pointer;\n",
              "      display: none;\n",
              "      fill: #1967D2;\n",
              "      height: 32px;\n",
              "      padding: 0 0 0 0;\n",
              "      width: 32px;\n",
              "    }\n",
              "\n",
              "    .colab-df-convert:hover {\n",
              "      background-color: #E2EBFA;\n",
              "      box-shadow: 0px 1px 2px rgba(60, 64, 67, 0.3), 0px 1px 3px 1px rgba(60, 64, 67, 0.15);\n",
              "      fill: #174EA6;\n",
              "    }\n",
              "\n",
              "    [theme=dark] .colab-df-convert {\n",
              "      background-color: #3B4455;\n",
              "      fill: #D2E3FC;\n",
              "    }\n",
              "\n",
              "    [theme=dark] .colab-df-convert:hover {\n",
              "      background-color: #434B5C;\n",
              "      box-shadow: 0px 1px 3px 1px rgba(0, 0, 0, 0.15);\n",
              "      filter: drop-shadow(0px 1px 2px rgba(0, 0, 0, 0.3));\n",
              "      fill: #FFFFFF;\n",
              "    }\n",
              "  </style>\n",
              "\n",
              "      <script>\n",
              "        const buttonEl =\n",
              "          document.querySelector('#df-61ce74f5-95c5-4d34-8bd6-957fc27fbf09 button.colab-df-convert');\n",
              "        buttonEl.style.display =\n",
              "          google.colab.kernel.accessAllowed ? 'block' : 'none';\n",
              "\n",
              "        async function convertToInteractive(key) {\n",
              "          const element = document.querySelector('#df-61ce74f5-95c5-4d34-8bd6-957fc27fbf09');\n",
              "          const dataTable =\n",
              "            await google.colab.kernel.invokeFunction('convertToInteractive',\n",
              "                                                     [key], {});\n",
              "          if (!dataTable) return;\n",
              "\n",
              "          const docLinkHtml = 'Like what you see? Visit the ' +\n",
              "            '<a target=\"_blank\" href=https://colab.research.google.com/notebooks/data_table.ipynb>data table notebook</a>'\n",
              "            + ' to learn more about interactive tables.';\n",
              "          element.innerHTML = '';\n",
              "          dataTable['output_type'] = 'display_data';\n",
              "          await google.colab.output.renderOutput(dataTable, element);\n",
              "          const docLink = document.createElement('div');\n",
              "          docLink.innerHTML = docLinkHtml;\n",
              "          element.appendChild(docLink);\n",
              "        }\n",
              "      </script>\n",
              "    </div>\n",
              "  </div>\n",
              "  "
            ],
            "text/plain": [
              "   Administrative  Administrative_Duration  Informational  \\\n",
              "0               0                      0.0              0   \n",
              "1               0                      0.0              0   \n",
              "2               0                      0.0              0   \n",
              "3               0                      0.0              0   \n",
              "4               0                      0.0              0   \n",
              "\n",
              "   Informational_Duration  ProductRelated  ProductRelated_Duration  \\\n",
              "0                     0.0               1                 0.000000   \n",
              "1                     0.0               2                64.000000   \n",
              "2                     0.0               1                 0.000000   \n",
              "3                     0.0               2                 2.666667   \n",
              "4                     0.0              10               627.500000   \n",
              "\n",
              "   BounceRates  ExitRates  PageValues  SpecialDay Month  OperatingSystems  \\\n",
              "0         0.20       0.20         0.0         0.0   Feb                 1   \n",
              "1         0.00       0.10         0.0         0.0   Feb                 2   \n",
              "2         0.20       0.20         0.0         0.0   Feb                 4   \n",
              "3         0.05       0.14         0.0         0.0   Feb                 3   \n",
              "4         0.02       0.05         0.0         0.0   Feb                 3   \n",
              "\n",
              "   Browser  Region  TrafficType        VisitorType  Weekend  Revenue  \n",
              "0        1       1            1  Returning_Visitor    False    False  \n",
              "1        2       1            2  Returning_Visitor    False    False  \n",
              "2        1       9            3  Returning_Visitor    False    False  \n",
              "3        2       2            4  Returning_Visitor    False    False  \n",
              "4        3       1            4  Returning_Visitor     True    False  "
            ]
          },
          "execution_count": 322,
          "metadata": {},
          "output_type": "execute_result"
        }
      ],
      "source": [
        "df.head()"
      ]
    },
    {
      "cell_type": "code",
      "execution_count": null,
      "metadata": {
        "colab": {
          "base_uri": "https://localhost:8080/"
        },
        "id": "vx4nCEjDi1K9",
        "outputId": "914fc84f-1f6d-49e6-9c9f-cacf9fe7fe39"
      },
      "outputs": [
        {
          "data": {
            "text/plain": [
              "(12330, 18)"
            ]
          },
          "execution_count": 323,
          "metadata": {},
          "output_type": "execute_result"
        }
      ],
      "source": [
        "df.shape\n",
        "# Row 12330 # columns 18"
      ]
    },
    {
      "cell_type": "code",
      "execution_count": null,
      "metadata": {
        "colab": {
          "base_uri": "https://localhost:8080/"
        },
        "id": "Kub4505fjIZe",
        "outputId": "b869ac83-189d-4b31-d3a1-744e4de450fa"
      },
      "outputs": [
        {
          "name": "stdout",
          "output_type": "stream",
          "text": [
            "<class 'pandas.core.frame.DataFrame'>\n",
            "RangeIndex: 12330 entries, 0 to 12329\n",
            "Data columns (total 18 columns):\n",
            " #   Column                   Non-Null Count  Dtype  \n",
            "---  ------                   --------------  -----  \n",
            " 0   Administrative           12330 non-null  int64  \n",
            " 1   Administrative_Duration  12330 non-null  float64\n",
            " 2   Informational            12330 non-null  int64  \n",
            " 3   Informational_Duration   12330 non-null  float64\n",
            " 4   ProductRelated           12330 non-null  int64  \n",
            " 5   ProductRelated_Duration  12330 non-null  float64\n",
            " 6   BounceRates              12330 non-null  float64\n",
            " 7   ExitRates                12330 non-null  float64\n",
            " 8   PageValues               12330 non-null  float64\n",
            " 9   SpecialDay               12330 non-null  float64\n",
            " 10  Month                    12330 non-null  object \n",
            " 11  OperatingSystems         12330 non-null  int64  \n",
            " 12  Browser                  12330 non-null  int64  \n",
            " 13  Region                   12330 non-null  int64  \n",
            " 14  TrafficType              12330 non-null  int64  \n",
            " 15  VisitorType              12330 non-null  object \n",
            " 16  Weekend                  12330 non-null  bool   \n",
            " 17  Revenue                  12330 non-null  bool   \n",
            "dtypes: bool(2), float64(7), int64(7), object(2)\n",
            "memory usage: 1.5+ MB\n"
          ]
        }
      ],
      "source": [
        "df.info()"
      ]
    },
    {
      "cell_type": "code",
      "execution_count": null,
      "metadata": {
        "colab": {
          "base_uri": "https://localhost:8080/"
        },
        "id": "cfx3n4lReLmX",
        "outputId": "038e38c3-1ced-48ab-bf8d-7f664094b874"
      },
      "outputs": [
        {
          "data": {
            "text/plain": [
              "Administrative             0\n",
              "Administrative_Duration    0\n",
              "Informational              0\n",
              "Informational_Duration     0\n",
              "ProductRelated             0\n",
              "ProductRelated_Duration    0\n",
              "BounceRates                0\n",
              "ExitRates                  0\n",
              "PageValues                 0\n",
              "SpecialDay                 0\n",
              "Month                      0\n",
              "OperatingSystems           0\n",
              "Browser                    0\n",
              "Region                     0\n",
              "TrafficType                0\n",
              "VisitorType                0\n",
              "Weekend                    0\n",
              "Revenue                    0\n",
              "dtype: int64"
            ]
          },
          "execution_count": 325,
          "metadata": {},
          "output_type": "execute_result"
        }
      ],
      "source": [
        "df.isnull().sum()"
      ]
    },
    {
      "cell_type": "code",
      "execution_count": null,
      "metadata": {
        "colab": {
          "base_uri": "https://localhost:8080/"
        },
        "id": "rl4a6vWUeQKm",
        "outputId": "7cf791f7-c906-45f7-a222-eaafe23668c0"
      },
      "outputs": [
        {
          "data": {
            "text/plain": [
              "125"
            ]
          },
          "execution_count": 326,
          "metadata": {},
          "output_type": "execute_result"
        }
      ],
      "source": [
        "df.duplicated().sum()"
      ]
    },
    {
      "cell_type": "code",
      "execution_count": null,
      "metadata": {
        "id": "E0WtTAgneVog"
      },
      "outputs": [],
      "source": [
        "df=df.drop_duplicates()"
      ]
    },
    {
      "cell_type": "code",
      "execution_count": null,
      "metadata": {
        "colab": {
          "base_uri": "https://localhost:8080/"
        },
        "id": "FbhXdK3DfVYM",
        "outputId": "50a98ba7-2448-4972-a2c7-a5074578bb01"
      },
      "outputs": [
        {
          "data": {
            "text/plain": [
              "0"
            ]
          },
          "execution_count": 328,
          "metadata": {},
          "output_type": "execute_result"
        }
      ],
      "source": [
        "df.duplicated().sum()\n"
      ]
    },
    {
      "cell_type": "code",
      "execution_count": null,
      "metadata": {
        "id": "QYR5BZPffWxp"
      },
      "outputs": [],
      "source": [
        "# # Drop unnecessary columns\n",
        "# df = df.drop(['Informational', 'Informational_Duration',\n",
        "#               'ProductRelated_Duration', 'ExitRates', 'SpecialDay'], axis=1)"
      ]
    },
    {
      "cell_type": "code",
      "execution_count": null,
      "metadata": {
        "colab": {
          "base_uri": "https://localhost:8080/",
          "height": 270
        },
        "id": "BLTOelAbgNLJ",
        "outputId": "ae5c3ffa-fa2e-4c2a-e11e-cfdf4a93f801"
      },
      "outputs": [
        {
          "data": {
            "text/html": [
              "\n",
              "  <div id=\"df-6a105388-b048-44af-8079-b5c3df466f01\">\n",
              "    <div class=\"colab-df-container\">\n",
              "      <div>\n",
              "<style scoped>\n",
              "    .dataframe tbody tr th:only-of-type {\n",
              "        vertical-align: middle;\n",
              "    }\n",
              "\n",
              "    .dataframe tbody tr th {\n",
              "        vertical-align: top;\n",
              "    }\n",
              "\n",
              "    .dataframe thead th {\n",
              "        text-align: right;\n",
              "    }\n",
              "</style>\n",
              "<table border=\"1\" class=\"dataframe\">\n",
              "  <thead>\n",
              "    <tr style=\"text-align: right;\">\n",
              "      <th></th>\n",
              "      <th>Administrative</th>\n",
              "      <th>Administrative_Duration</th>\n",
              "      <th>Informational</th>\n",
              "      <th>Informational_Duration</th>\n",
              "      <th>ProductRelated</th>\n",
              "      <th>ProductRelated_Duration</th>\n",
              "      <th>BounceRates</th>\n",
              "      <th>ExitRates</th>\n",
              "      <th>PageValues</th>\n",
              "      <th>SpecialDay</th>\n",
              "      <th>Month</th>\n",
              "      <th>OperatingSystems</th>\n",
              "      <th>Browser</th>\n",
              "      <th>Region</th>\n",
              "      <th>TrafficType</th>\n",
              "      <th>VisitorType</th>\n",
              "      <th>Weekend</th>\n",
              "      <th>Revenue</th>\n",
              "    </tr>\n",
              "  </thead>\n",
              "  <tbody>\n",
              "    <tr>\n",
              "      <th>0</th>\n",
              "      <td>0</td>\n",
              "      <td>0.0</td>\n",
              "      <td>0</td>\n",
              "      <td>0.0</td>\n",
              "      <td>1</td>\n",
              "      <td>0.000000</td>\n",
              "      <td>0.20</td>\n",
              "      <td>0.20</td>\n",
              "      <td>0.0</td>\n",
              "      <td>0.0</td>\n",
              "      <td>Feb</td>\n",
              "      <td>1</td>\n",
              "      <td>1</td>\n",
              "      <td>1</td>\n",
              "      <td>1</td>\n",
              "      <td>Returning_Visitor</td>\n",
              "      <td>False</td>\n",
              "      <td>False</td>\n",
              "    </tr>\n",
              "    <tr>\n",
              "      <th>1</th>\n",
              "      <td>0</td>\n",
              "      <td>0.0</td>\n",
              "      <td>0</td>\n",
              "      <td>0.0</td>\n",
              "      <td>2</td>\n",
              "      <td>64.000000</td>\n",
              "      <td>0.00</td>\n",
              "      <td>0.10</td>\n",
              "      <td>0.0</td>\n",
              "      <td>0.0</td>\n",
              "      <td>Feb</td>\n",
              "      <td>2</td>\n",
              "      <td>2</td>\n",
              "      <td>1</td>\n",
              "      <td>2</td>\n",
              "      <td>Returning_Visitor</td>\n",
              "      <td>False</td>\n",
              "      <td>False</td>\n",
              "    </tr>\n",
              "    <tr>\n",
              "      <th>2</th>\n",
              "      <td>0</td>\n",
              "      <td>0.0</td>\n",
              "      <td>0</td>\n",
              "      <td>0.0</td>\n",
              "      <td>1</td>\n",
              "      <td>0.000000</td>\n",
              "      <td>0.20</td>\n",
              "      <td>0.20</td>\n",
              "      <td>0.0</td>\n",
              "      <td>0.0</td>\n",
              "      <td>Feb</td>\n",
              "      <td>4</td>\n",
              "      <td>1</td>\n",
              "      <td>9</td>\n",
              "      <td>3</td>\n",
              "      <td>Returning_Visitor</td>\n",
              "      <td>False</td>\n",
              "      <td>False</td>\n",
              "    </tr>\n",
              "    <tr>\n",
              "      <th>3</th>\n",
              "      <td>0</td>\n",
              "      <td>0.0</td>\n",
              "      <td>0</td>\n",
              "      <td>0.0</td>\n",
              "      <td>2</td>\n",
              "      <td>2.666667</td>\n",
              "      <td>0.05</td>\n",
              "      <td>0.14</td>\n",
              "      <td>0.0</td>\n",
              "      <td>0.0</td>\n",
              "      <td>Feb</td>\n",
              "      <td>3</td>\n",
              "      <td>2</td>\n",
              "      <td>2</td>\n",
              "      <td>4</td>\n",
              "      <td>Returning_Visitor</td>\n",
              "      <td>False</td>\n",
              "      <td>False</td>\n",
              "    </tr>\n",
              "    <tr>\n",
              "      <th>4</th>\n",
              "      <td>0</td>\n",
              "      <td>0.0</td>\n",
              "      <td>0</td>\n",
              "      <td>0.0</td>\n",
              "      <td>10</td>\n",
              "      <td>627.500000</td>\n",
              "      <td>0.02</td>\n",
              "      <td>0.05</td>\n",
              "      <td>0.0</td>\n",
              "      <td>0.0</td>\n",
              "      <td>Feb</td>\n",
              "      <td>3</td>\n",
              "      <td>3</td>\n",
              "      <td>1</td>\n",
              "      <td>4</td>\n",
              "      <td>Returning_Visitor</td>\n",
              "      <td>True</td>\n",
              "      <td>False</td>\n",
              "    </tr>\n",
              "  </tbody>\n",
              "</table>\n",
              "</div>\n",
              "      <button class=\"colab-df-convert\" onclick=\"convertToInteractive('df-6a105388-b048-44af-8079-b5c3df466f01')\"\n",
              "              title=\"Convert this dataframe to an interactive table.\"\n",
              "              style=\"display:none;\">\n",
              "        \n",
              "  <svg xmlns=\"http://www.w3.org/2000/svg\" height=\"24px\"viewBox=\"0 0 24 24\"\n",
              "       width=\"24px\">\n",
              "    <path d=\"M0 0h24v24H0V0z\" fill=\"none\"/>\n",
              "    <path d=\"M18.56 5.44l.94 2.06.94-2.06 2.06-.94-2.06-.94-.94-2.06-.94 2.06-2.06.94zm-11 1L8.5 8.5l.94-2.06 2.06-.94-2.06-.94L8.5 2.5l-.94 2.06-2.06.94zm10 10l.94 2.06.94-2.06 2.06-.94-2.06-.94-.94-2.06-.94 2.06-2.06.94z\"/><path d=\"M17.41 7.96l-1.37-1.37c-.4-.4-.92-.59-1.43-.59-.52 0-1.04.2-1.43.59L10.3 9.45l-7.72 7.72c-.78.78-.78 2.05 0 2.83L4 21.41c.39.39.9.59 1.41.59.51 0 1.02-.2 1.41-.59l7.78-7.78 2.81-2.81c.8-.78.8-2.07 0-2.86zM5.41 20L4 18.59l7.72-7.72 1.47 1.35L5.41 20z\"/>\n",
              "  </svg>\n",
              "      </button>\n",
              "      \n",
              "  <style>\n",
              "    .colab-df-container {\n",
              "      display:flex;\n",
              "      flex-wrap:wrap;\n",
              "      gap: 12px;\n",
              "    }\n",
              "\n",
              "    .colab-df-convert {\n",
              "      background-color: #E8F0FE;\n",
              "      border: none;\n",
              "      border-radius: 50%;\n",
              "      cursor: pointer;\n",
              "      display: none;\n",
              "      fill: #1967D2;\n",
              "      height: 32px;\n",
              "      padding: 0 0 0 0;\n",
              "      width: 32px;\n",
              "    }\n",
              "\n",
              "    .colab-df-convert:hover {\n",
              "      background-color: #E2EBFA;\n",
              "      box-shadow: 0px 1px 2px rgba(60, 64, 67, 0.3), 0px 1px 3px 1px rgba(60, 64, 67, 0.15);\n",
              "      fill: #174EA6;\n",
              "    }\n",
              "\n",
              "    [theme=dark] .colab-df-convert {\n",
              "      background-color: #3B4455;\n",
              "      fill: #D2E3FC;\n",
              "    }\n",
              "\n",
              "    [theme=dark] .colab-df-convert:hover {\n",
              "      background-color: #434B5C;\n",
              "      box-shadow: 0px 1px 3px 1px rgba(0, 0, 0, 0.15);\n",
              "      filter: drop-shadow(0px 1px 2px rgba(0, 0, 0, 0.3));\n",
              "      fill: #FFFFFF;\n",
              "    }\n",
              "  </style>\n",
              "\n",
              "      <script>\n",
              "        const buttonEl =\n",
              "          document.querySelector('#df-6a105388-b048-44af-8079-b5c3df466f01 button.colab-df-convert');\n",
              "        buttonEl.style.display =\n",
              "          google.colab.kernel.accessAllowed ? 'block' : 'none';\n",
              "\n",
              "        async function convertToInteractive(key) {\n",
              "          const element = document.querySelector('#df-6a105388-b048-44af-8079-b5c3df466f01');\n",
              "          const dataTable =\n",
              "            await google.colab.kernel.invokeFunction('convertToInteractive',\n",
              "                                                     [key], {});\n",
              "          if (!dataTable) return;\n",
              "\n",
              "          const docLinkHtml = 'Like what you see? Visit the ' +\n",
              "            '<a target=\"_blank\" href=https://colab.research.google.com/notebooks/data_table.ipynb>data table notebook</a>'\n",
              "            + ' to learn more about interactive tables.';\n",
              "          element.innerHTML = '';\n",
              "          dataTable['output_type'] = 'display_data';\n",
              "          await google.colab.output.renderOutput(dataTable, element);\n",
              "          const docLink = document.createElement('div');\n",
              "          docLink.innerHTML = docLinkHtml;\n",
              "          element.appendChild(docLink);\n",
              "        }\n",
              "      </script>\n",
              "    </div>\n",
              "  </div>\n",
              "  "
            ],
            "text/plain": [
              "   Administrative  Administrative_Duration  Informational  \\\n",
              "0               0                      0.0              0   \n",
              "1               0                      0.0              0   \n",
              "2               0                      0.0              0   \n",
              "3               0                      0.0              0   \n",
              "4               0                      0.0              0   \n",
              "\n",
              "   Informational_Duration  ProductRelated  ProductRelated_Duration  \\\n",
              "0                     0.0               1                 0.000000   \n",
              "1                     0.0               2                64.000000   \n",
              "2                     0.0               1                 0.000000   \n",
              "3                     0.0               2                 2.666667   \n",
              "4                     0.0              10               627.500000   \n",
              "\n",
              "   BounceRates  ExitRates  PageValues  SpecialDay Month  OperatingSystems  \\\n",
              "0         0.20       0.20         0.0         0.0   Feb                 1   \n",
              "1         0.00       0.10         0.0         0.0   Feb                 2   \n",
              "2         0.20       0.20         0.0         0.0   Feb                 4   \n",
              "3         0.05       0.14         0.0         0.0   Feb                 3   \n",
              "4         0.02       0.05         0.0         0.0   Feb                 3   \n",
              "\n",
              "   Browser  Region  TrafficType        VisitorType  Weekend  Revenue  \n",
              "0        1       1            1  Returning_Visitor    False    False  \n",
              "1        2       1            2  Returning_Visitor    False    False  \n",
              "2        1       9            3  Returning_Visitor    False    False  \n",
              "3        2       2            4  Returning_Visitor    False    False  \n",
              "4        3       1            4  Returning_Visitor     True    False  "
            ]
          },
          "execution_count": 330,
          "metadata": {},
          "output_type": "execute_result"
        }
      ],
      "source": [
        "df.head()"
      ]
    },
    {
      "cell_type": "code",
      "execution_count": null,
      "metadata": {
        "colab": {
          "base_uri": "https://localhost:8080/"
        },
        "id": "eHVwjqh1gP8u",
        "outputId": "7f6f0d9e-1e63-4335-97ac-8baa0c37dfce"
      },
      "outputs": [
        {
          "name": "stderr",
          "output_type": "stream",
          "text": [
            "<ipython-input-331-e6e6fe84e159>:2: SettingWithCopyWarning: \n",
            "A value is trying to be set on a copy of a slice from a DataFrame.\n",
            "Try using .loc[row_indexer,col_indexer] = value instead\n",
            "\n",
            "See the caveats in the documentation: https://pandas.pydata.org/pandas-docs/stable/user_guide/indexing.html#returning-a-view-versus-a-copy\n",
            "  df.loc[:, 'Month'] = df['Month'].str.capitalize() # capitalize the first letter of each month name\n",
            "<ipython-input-331-e6e6fe84e159>:5: SettingWithCopyWarning: \n",
            "A value is trying to be set on a copy of a slice from a DataFrame.\n",
            "Try using .loc[row_indexer,col_indexer] = value instead\n",
            "\n",
            "See the caveats in the documentation: https://pandas.pydata.org/pandas-docs/stable/user_guide/indexing.html#returning-a-view-versus-a-copy\n",
            "  df.loc[:, 'Month'] = df['Month'].replace({'June':'Jun'})\n"
          ]
        }
      ],
      "source": [
        "# Address inconsistencies in categorical data\n",
        "df.loc[:, 'Month'] = df['Month'].str.capitalize() # capitalize the first letter of each month name\n",
        "\n",
        "# Address inconsistencies in 'Month' column\n",
        "df.loc[:, 'Month'] = df['Month'].replace({'June':'Jun'})"
      ]
    },
    {
      "cell_type": "code",
      "execution_count": null,
      "metadata": {
        "colab": {
          "base_uri": "https://localhost:8080/"
        },
        "id": "QJIJbnhPabzT",
        "outputId": "de5ab2b9-9c48-4ee2-8de9-2334cd0155e3"
      },
      "outputs": [
        {
          "data": {
            "text/plain": [
              "May    3329\n",
              "Nov    2982\n",
              "Mar    1860\n",
              "Dec    1706\n",
              "Oct     549\n",
              "Sep     448\n",
              "Aug     433\n",
              "Jul     432\n",
              "Jun     285\n",
              "Feb     181\n",
              "Name: Month, dtype: int64"
            ]
          },
          "execution_count": 332,
          "metadata": {},
          "output_type": "execute_result"
        }
      ],
      "source": [
        "df['Month'].value_counts()"
      ]
    },
    {
      "cell_type": "code",
      "execution_count": null,
      "metadata": {
        "colab": {
          "base_uri": "https://localhost:8080/"
        },
        "id": "JzlW3wuCYPmC",
        "outputId": "068c7d9b-bceb-4719-9bb8-d4d4ab5a3f6a"
      },
      "outputs": [
        {
          "name": "stdout",
          "output_type": "stream",
          "text": [
            "there are 10 Months registered in the dataset.\n"
          ]
        }
      ],
      "source": [
        "# Number of months in the data set\n",
        "print(f\"there are {df['Month'].value_counts().count()} Months registered in the dataset.\")"
      ]
    },
    {
      "cell_type": "code",
      "execution_count": null,
      "metadata": {
        "colab": {
          "base_uri": "https://localhost:8080/"
        },
        "id": "Quyk7uGtW5rK",
        "outputId": "fd5ff9fb-0dbf-4d04-da9d-e480589d3f33"
      },
      "outputs": [
        {
          "data": {
            "text/plain": [
              "Returning_Visitor    10431\n",
              "New_Visitor           1693\n",
              "Other                   81\n",
              "Name: VisitorType, dtype: int64"
            ]
          },
          "execution_count": 334,
          "metadata": {},
          "output_type": "execute_result"
        }
      ],
      "source": [
        "# checking inconsistencies in categorical data\n",
        "df['VisitorType'].value_counts()"
      ]
    },
    {
      "cell_type": "code",
      "execution_count": null,
      "metadata": {
        "colab": {
          "base_uri": "https://localhost:8080/",
          "height": 488
        },
        "id": "eq8HWSSqgn7K",
        "outputId": "a4359748-4de1-4be8-880c-d302ccea94db"
      },
      "outputs": [
        {
          "data": {
            "text/html": [
              "\n",
              "  <div id=\"df-7bd0256f-06c8-4323-bc00-572c82af7c52\">\n",
              "    <div class=\"colab-df-container\">\n",
              "      <div>\n",
              "<style scoped>\n",
              "    .dataframe tbody tr th:only-of-type {\n",
              "        vertical-align: middle;\n",
              "    }\n",
              "\n",
              "    .dataframe tbody tr th {\n",
              "        vertical-align: top;\n",
              "    }\n",
              "\n",
              "    .dataframe thead th {\n",
              "        text-align: right;\n",
              "    }\n",
              "</style>\n",
              "<table border=\"1\" class=\"dataframe\">\n",
              "  <thead>\n",
              "    <tr style=\"text-align: right;\">\n",
              "      <th></th>\n",
              "      <th>count</th>\n",
              "      <th>mean</th>\n",
              "      <th>std</th>\n",
              "      <th>min</th>\n",
              "      <th>25%</th>\n",
              "      <th>50%</th>\n",
              "      <th>75%</th>\n",
              "      <th>max</th>\n",
              "    </tr>\n",
              "  </thead>\n",
              "  <tbody>\n",
              "    <tr>\n",
              "      <th>Administrative</th>\n",
              "      <td>12205.0</td>\n",
              "      <td>2.338878</td>\n",
              "      <td>3.330436</td>\n",
              "      <td>0.0</td>\n",
              "      <td>0.000000</td>\n",
              "      <td>1.000000</td>\n",
              "      <td>4.000000</td>\n",
              "      <td>27.000000</td>\n",
              "    </tr>\n",
              "    <tr>\n",
              "      <th>Administrative_Duration</th>\n",
              "      <td>12205.0</td>\n",
              "      <td>81.646331</td>\n",
              "      <td>177.491845</td>\n",
              "      <td>0.0</td>\n",
              "      <td>0.000000</td>\n",
              "      <td>9.000000</td>\n",
              "      <td>94.700000</td>\n",
              "      <td>3398.750000</td>\n",
              "    </tr>\n",
              "    <tr>\n",
              "      <th>Informational</th>\n",
              "      <td>12205.0</td>\n",
              "      <td>0.508726</td>\n",
              "      <td>1.275617</td>\n",
              "      <td>0.0</td>\n",
              "      <td>0.000000</td>\n",
              "      <td>0.000000</td>\n",
              "      <td>0.000000</td>\n",
              "      <td>24.000000</td>\n",
              "    </tr>\n",
              "    <tr>\n",
              "      <th>Informational_Duration</th>\n",
              "      <td>12205.0</td>\n",
              "      <td>34.825454</td>\n",
              "      <td>141.424807</td>\n",
              "      <td>0.0</td>\n",
              "      <td>0.000000</td>\n",
              "      <td>0.000000</td>\n",
              "      <td>0.000000</td>\n",
              "      <td>2549.375000</td>\n",
              "    </tr>\n",
              "    <tr>\n",
              "      <th>ProductRelated</th>\n",
              "      <td>12205.0</td>\n",
              "      <td>32.045637</td>\n",
              "      <td>44.593649</td>\n",
              "      <td>0.0</td>\n",
              "      <td>8.000000</td>\n",
              "      <td>18.000000</td>\n",
              "      <td>38.000000</td>\n",
              "      <td>705.000000</td>\n",
              "    </tr>\n",
              "    <tr>\n",
              "      <th>ProductRelated_Duration</th>\n",
              "      <td>12205.0</td>\n",
              "      <td>1206.982457</td>\n",
              "      <td>1919.601400</td>\n",
              "      <td>0.0</td>\n",
              "      <td>193.000000</td>\n",
              "      <td>608.942857</td>\n",
              "      <td>1477.154762</td>\n",
              "      <td>63973.522230</td>\n",
              "    </tr>\n",
              "    <tr>\n",
              "      <th>BounceRates</th>\n",
              "      <td>12205.0</td>\n",
              "      <td>0.020370</td>\n",
              "      <td>0.045255</td>\n",
              "      <td>0.0</td>\n",
              "      <td>0.000000</td>\n",
              "      <td>0.002899</td>\n",
              "      <td>0.016667</td>\n",
              "      <td>0.200000</td>\n",
              "    </tr>\n",
              "    <tr>\n",
              "      <th>ExitRates</th>\n",
              "      <td>12205.0</td>\n",
              "      <td>0.041466</td>\n",
              "      <td>0.046163</td>\n",
              "      <td>0.0</td>\n",
              "      <td>0.014231</td>\n",
              "      <td>0.025000</td>\n",
              "      <td>0.048529</td>\n",
              "      <td>0.200000</td>\n",
              "    </tr>\n",
              "    <tr>\n",
              "      <th>PageValues</th>\n",
              "      <td>12205.0</td>\n",
              "      <td>5.949574</td>\n",
              "      <td>18.653671</td>\n",
              "      <td>0.0</td>\n",
              "      <td>0.000000</td>\n",
              "      <td>0.000000</td>\n",
              "      <td>0.000000</td>\n",
              "      <td>361.763742</td>\n",
              "    </tr>\n",
              "    <tr>\n",
              "      <th>SpecialDay</th>\n",
              "      <td>12205.0</td>\n",
              "      <td>0.061942</td>\n",
              "      <td>0.199666</td>\n",
              "      <td>0.0</td>\n",
              "      <td>0.000000</td>\n",
              "      <td>0.000000</td>\n",
              "      <td>0.000000</td>\n",
              "      <td>1.000000</td>\n",
              "    </tr>\n",
              "    <tr>\n",
              "      <th>OperatingSystems</th>\n",
              "      <td>12205.0</td>\n",
              "      <td>2.124211</td>\n",
              "      <td>0.906823</td>\n",
              "      <td>1.0</td>\n",
              "      <td>2.000000</td>\n",
              "      <td>2.000000</td>\n",
              "      <td>3.000000</td>\n",
              "      <td>8.000000</td>\n",
              "    </tr>\n",
              "    <tr>\n",
              "      <th>Browser</th>\n",
              "      <td>12205.0</td>\n",
              "      <td>2.357804</td>\n",
              "      <td>1.710114</td>\n",
              "      <td>1.0</td>\n",
              "      <td>2.000000</td>\n",
              "      <td>2.000000</td>\n",
              "      <td>2.000000</td>\n",
              "      <td>13.000000</td>\n",
              "    </tr>\n",
              "    <tr>\n",
              "      <th>Region</th>\n",
              "      <td>12205.0</td>\n",
              "      <td>3.153298</td>\n",
              "      <td>2.402340</td>\n",
              "      <td>1.0</td>\n",
              "      <td>1.000000</td>\n",
              "      <td>3.000000</td>\n",
              "      <td>4.000000</td>\n",
              "      <td>9.000000</td>\n",
              "    </tr>\n",
              "    <tr>\n",
              "      <th>TrafficType</th>\n",
              "      <td>12205.0</td>\n",
              "      <td>4.073904</td>\n",
              "      <td>4.016654</td>\n",
              "      <td>1.0</td>\n",
              "      <td>2.000000</td>\n",
              "      <td>2.000000</td>\n",
              "      <td>4.000000</td>\n",
              "      <td>20.000000</td>\n",
              "    </tr>\n",
              "  </tbody>\n",
              "</table>\n",
              "</div>\n",
              "      <button class=\"colab-df-convert\" onclick=\"convertToInteractive('df-7bd0256f-06c8-4323-bc00-572c82af7c52')\"\n",
              "              title=\"Convert this dataframe to an interactive table.\"\n",
              "              style=\"display:none;\">\n",
              "        \n",
              "  <svg xmlns=\"http://www.w3.org/2000/svg\" height=\"24px\"viewBox=\"0 0 24 24\"\n",
              "       width=\"24px\">\n",
              "    <path d=\"M0 0h24v24H0V0z\" fill=\"none\"/>\n",
              "    <path d=\"M18.56 5.44l.94 2.06.94-2.06 2.06-.94-2.06-.94-.94-2.06-.94 2.06-2.06.94zm-11 1L8.5 8.5l.94-2.06 2.06-.94-2.06-.94L8.5 2.5l-.94 2.06-2.06.94zm10 10l.94 2.06.94-2.06 2.06-.94-2.06-.94-.94-2.06-.94 2.06-2.06.94z\"/><path d=\"M17.41 7.96l-1.37-1.37c-.4-.4-.92-.59-1.43-.59-.52 0-1.04.2-1.43.59L10.3 9.45l-7.72 7.72c-.78.78-.78 2.05 0 2.83L4 21.41c.39.39.9.59 1.41.59.51 0 1.02-.2 1.41-.59l7.78-7.78 2.81-2.81c.8-.78.8-2.07 0-2.86zM5.41 20L4 18.59l7.72-7.72 1.47 1.35L5.41 20z\"/>\n",
              "  </svg>\n",
              "      </button>\n",
              "      \n",
              "  <style>\n",
              "    .colab-df-container {\n",
              "      display:flex;\n",
              "      flex-wrap:wrap;\n",
              "      gap: 12px;\n",
              "    }\n",
              "\n",
              "    .colab-df-convert {\n",
              "      background-color: #E8F0FE;\n",
              "      border: none;\n",
              "      border-radius: 50%;\n",
              "      cursor: pointer;\n",
              "      display: none;\n",
              "      fill: #1967D2;\n",
              "      height: 32px;\n",
              "      padding: 0 0 0 0;\n",
              "      width: 32px;\n",
              "    }\n",
              "\n",
              "    .colab-df-convert:hover {\n",
              "      background-color: #E2EBFA;\n",
              "      box-shadow: 0px 1px 2px rgba(60, 64, 67, 0.3), 0px 1px 3px 1px rgba(60, 64, 67, 0.15);\n",
              "      fill: #174EA6;\n",
              "    }\n",
              "\n",
              "    [theme=dark] .colab-df-convert {\n",
              "      background-color: #3B4455;\n",
              "      fill: #D2E3FC;\n",
              "    }\n",
              "\n",
              "    [theme=dark] .colab-df-convert:hover {\n",
              "      background-color: #434B5C;\n",
              "      box-shadow: 0px 1px 3px 1px rgba(0, 0, 0, 0.15);\n",
              "      filter: drop-shadow(0px 1px 2px rgba(0, 0, 0, 0.3));\n",
              "      fill: #FFFFFF;\n",
              "    }\n",
              "  </style>\n",
              "\n",
              "      <script>\n",
              "        const buttonEl =\n",
              "          document.querySelector('#df-7bd0256f-06c8-4323-bc00-572c82af7c52 button.colab-df-convert');\n",
              "        buttonEl.style.display =\n",
              "          google.colab.kernel.accessAllowed ? 'block' : 'none';\n",
              "\n",
              "        async function convertToInteractive(key) {\n",
              "          const element = document.querySelector('#df-7bd0256f-06c8-4323-bc00-572c82af7c52');\n",
              "          const dataTable =\n",
              "            await google.colab.kernel.invokeFunction('convertToInteractive',\n",
              "                                                     [key], {});\n",
              "          if (!dataTable) return;\n",
              "\n",
              "          const docLinkHtml = 'Like what you see? Visit the ' +\n",
              "            '<a target=\"_blank\" href=https://colab.research.google.com/notebooks/data_table.ipynb>data table notebook</a>'\n",
              "            + ' to learn more about interactive tables.';\n",
              "          element.innerHTML = '';\n",
              "          dataTable['output_type'] = 'display_data';\n",
              "          await google.colab.output.renderOutput(dataTable, element);\n",
              "          const docLink = document.createElement('div');\n",
              "          docLink.innerHTML = docLinkHtml;\n",
              "          element.appendChild(docLink);\n",
              "        }\n",
              "      </script>\n",
              "    </div>\n",
              "  </div>\n",
              "  "
            ],
            "text/plain": [
              "                           count         mean          std  min         25%  \\\n",
              "Administrative           12205.0     2.338878     3.330436  0.0    0.000000   \n",
              "Administrative_Duration  12205.0    81.646331   177.491845  0.0    0.000000   \n",
              "Informational            12205.0     0.508726     1.275617  0.0    0.000000   \n",
              "Informational_Duration   12205.0    34.825454   141.424807  0.0    0.000000   \n",
              "ProductRelated           12205.0    32.045637    44.593649  0.0    8.000000   \n",
              "ProductRelated_Duration  12205.0  1206.982457  1919.601400  0.0  193.000000   \n",
              "BounceRates              12205.0     0.020370     0.045255  0.0    0.000000   \n",
              "ExitRates                12205.0     0.041466     0.046163  0.0    0.014231   \n",
              "PageValues               12205.0     5.949574    18.653671  0.0    0.000000   \n",
              "SpecialDay               12205.0     0.061942     0.199666  0.0    0.000000   \n",
              "OperatingSystems         12205.0     2.124211     0.906823  1.0    2.000000   \n",
              "Browser                  12205.0     2.357804     1.710114  1.0    2.000000   \n",
              "Region                   12205.0     3.153298     2.402340  1.0    1.000000   \n",
              "TrafficType              12205.0     4.073904     4.016654  1.0    2.000000   \n",
              "\n",
              "                                50%          75%           max  \n",
              "Administrative             1.000000     4.000000     27.000000  \n",
              "Administrative_Duration    9.000000    94.700000   3398.750000  \n",
              "Informational              0.000000     0.000000     24.000000  \n",
              "Informational_Duration     0.000000     0.000000   2549.375000  \n",
              "ProductRelated            18.000000    38.000000    705.000000  \n",
              "ProductRelated_Duration  608.942857  1477.154762  63973.522230  \n",
              "BounceRates                0.002899     0.016667      0.200000  \n",
              "ExitRates                  0.025000     0.048529      0.200000  \n",
              "PageValues                 0.000000     0.000000    361.763742  \n",
              "SpecialDay                 0.000000     0.000000      1.000000  \n",
              "OperatingSystems           2.000000     3.000000      8.000000  \n",
              "Browser                    2.000000     2.000000     13.000000  \n",
              "Region                     3.000000     4.000000      9.000000  \n",
              "TrafficType                2.000000     4.000000     20.000000  "
            ]
          },
          "execution_count": 335,
          "metadata": {},
          "output_type": "execute_result"
        }
      ],
      "source": [
        "# The code calculates descriptive statistics of the numerical features in the dataset,\n",
        "#  transposes the resulting table for easier readability, and displays the statistics.\n",
        "df.describe().T"
      ]
    },
    {
      "cell_type": "markdown",
      "metadata": {
        "id": "UTipfE8EZH3F"
      },
      "source": [
        "**Visualization**"
      ]
    },
    {
      "cell_type": "code",
      "execution_count": null,
      "metadata": {
        "id": "6QZgDFiPZUt-"
      },
      "outputs": [],
      "source": [
        "#Libraries used\n",
        "import matplotlib.pyplot as plt\n",
        "import seaborn as sns"
      ]
    },
    {
      "cell_type": "code",
      "execution_count": null,
      "metadata": {
        "id": "HnuGHx-oikgO"
      },
      "outputs": [],
      "source": [
        "# # the for loop iterates through each bar in the countplot and retrieves the height of the bar using p.get_height().\n",
        "# #  The annotate function is used to add text labels above each bar using the x and y coordinates. \n",
        "# # The '{:.0f}'.format() function is used to format the count values as integers without any decimal places.\n",
        "#  round() function to round off\n",
        "\n",
        "\n",
        "def plot_categorical_data(df, col, hue=None, figsize=(10,6)):\n",
        "    \n",
        "    fig, ax = plt.subplots(figsize=figsize)\n",
        "    \n",
        "    sns.countplot(x=col, hue=hue, data=df, ax=ax)\n",
        "    \n",
        "    # Annotate bars with count values\n",
        "    for p in ax.patches:\n",
        "        count = p.get_height()\n",
        "        x = p.get_x() + p.get_width() / 2\n",
        "        y = p.get_y() + count\n",
        "        ax.annotate(f'{count}\\n{count/len(df)*100:.2f}%', (x, y), ha='center', fontsize=12)\n",
        "    \n",
        "    # Show percentage share\n",
        "    if hue:\n",
        "        share = df.groupby(col)[hue].value_counts(normalize=True).mul(100).round(2)\n",
        "    else:\n",
        "        share = df[col].value_counts(normalize=True).mul(100).round(2)\n",
        "    \n",
        "    # Set plot aesthetics\n",
        "    sns.despine(left=True)\n",
        "    ax.set_xlabel(col.capitalize())\n",
        "    ax.set_ylabel('Count')\n",
        "    ax.legend(title=hue)\n",
        "    plt.show()\n"
      ]
    },
    {
      "cell_type": "code",
      "execution_count": null,
      "metadata": {
        "colab": {
          "base_uri": "https://localhost:8080/",
          "height": 592
        },
        "id": "YGes7MFpmEAZ",
        "outputId": "1c511f4d-cb7d-468b-ca11-9219da7cdaa0"
      },
      "outputs": [
        {
          "name": "stderr",
          "output_type": "stream",
          "text": [
            "WARNING:matplotlib.legend:No artists with labels found to put in legend.  Note that artists whose label start with an underscore are ignored when legend() is called with no argument.\n"
          ]
        },
        {
          "data": {
            "image/png": "[encoded data removed]",
            "text/plain": [
              "<Figure size 1000x600 with 1 Axes>"
            ]
          },
          "metadata": {},
          "output_type": "display_data"
        }
      ],
      "source": [
        "# The chart provides a quick visualization of the distribution of the \"Revenue\" column in the dataset.\n",
        "# \n",
        "plot_categorical_data(df, 'Revenue', hue=None)"
      ]
    },
    {
      "cell_type": "markdown",
      "metadata": {
        "id": "kwEHfrNWlMsp"
      },
      "source": [
        "Only 15.63% people ended up making 1 or more purchase"
      ]
    },
    {
      "cell_type": "code",
      "execution_count": null,
      "metadata": {
        "colab": {
          "base_uri": "https://localhost:8080/",
          "height": 592
        },
        "id": "Zq1-dOBLmc88",
        "outputId": "ada23b6f-5a8d-4798-d2ae-4b3fa3f35495"
      },
      "outputs": [
        {
          "name": "stderr",
          "output_type": "stream",
          "text": [
            "WARNING:matplotlib.legend:No artists with labels found to put in legend.  Note that artists whose label start with an underscore are ignored when legend() is called with no argument.\n"
          ]
        },
        {
          "data": {
            "image/png": "[encoded data removed]",
            "text/plain": [
              "<Figure size 1000x600 with 1 Axes>"
            ]
          },
          "metadata": {},
          "output_type": "display_data"
        }
      ],
      "source": [
        "plot_categorical_data(df, 'VisitorType', hue=None)"
      ]
    },
    {
      "cell_type": "markdown",
      "metadata": {
        "id": "PzgVd6VjqlvV"
      },
      "source": [
        "85% of customers return back to site, which is a good indication. Meaning that customers are satisfied with what they are getting. 13.74% of customers are new customers"
      ]
    },
    {
      "cell_type": "code",
      "execution_count": null,
      "metadata": {
        "colab": {
          "base_uri": "https://localhost:8080/",
          "height": 592
        },
        "id": "GfuQiMmmqz1Z",
        "outputId": "463060ba-be39-46de-9b50-1a2322eb6818"
      },
      "outputs": [
        {
          "name": "stderr",
          "output_type": "stream",
          "text": [
            "WARNING:matplotlib.legend:No artists with labels found to put in legend.  Note that artists whose label start with an underscore are ignored when legend() is called with no argument.\n"
          ]
        },
        {
          "data": {
            "image/png": "[encoded data removed]",
            "text/plain": [
              "<Figure size 1000x600 with 1 Axes>"
            ]
          },
          "metadata": {},
          "output_type": "display_data"
        }
      ],
      "source": [
        "plot_categorical_data(df, 'TrafficType')"
      ]
    },
    {
      "cell_type": "markdown",
      "metadata": {
        "id": "ZggrdVF_rz19"
      },
      "source": [
        "1. Most of our visitors are coming from traffic type 2 - around 32%\n",
        "total.\n",
        "2. 83% of visitors coming from 5 major traffic type 1,2,3,4, and 13\n"
      ]
    },
    {
      "cell_type": "code",
      "execution_count": null,
      "metadata": {
        "colab": {
          "base_uri": "https://localhost:8080/",
          "height": 592
        },
        "id": "sjVzOf-5ru3P",
        "outputId": "80545290-6294-4628-af11-284631673278"
      },
      "outputs": [
        {
          "name": "stderr",
          "output_type": "stream",
          "text": [
            "WARNING:matplotlib.legend:No artists with labels found to put in legend.  Note that artists whose label start with an underscore are ignored when legend() is called with no argument.\n"
          ]
        },
        {
          "data": {
            "image/png": "[encoded data removed]",
            "text/plain": [
              "<Figure size 1000x600 with 1 Axes>"
            ]
          },
          "metadata": {},
          "output_type": "display_data"
        }
      ],
      "source": [
        "plot_categorical_data(df, 'Weekend')"
      ]
    },
    {
      "cell_type": "markdown",
      "metadata": {
        "id": "NgIGZKQSsXUd"
      },
      "source": [
        "**Less people visit this site during weekdays than weekends**"
      ]
    },
    {
      "cell_type": "code",
      "execution_count": null,
      "metadata": {
        "id": "MGRikc7jsuqD"
      },
      "outputs": [],
      "source": [
        "plot_categorical_data(df, 'Region')\n"
      ]
    },
    {
      "cell_type": "markdown",
      "metadata": {
        "id": "SaCAWGpGs64J"
      },
      "source": [
        "Close to 39% of visitors come from region 1 followed by 19.5% from region 3"
      ]
    },
    {
      "cell_type": "code",
      "execution_count": null,
      "metadata": {
        "id": "t1VpStRfs6Pc"
      },
      "outputs": [],
      "source": [
        "plot_categorical_data(df, 'Browser')"
      ]
    },
    {
      "cell_type": "markdown",
      "metadata": {
        "id": "uSwrwOXYtWPy"
      },
      "source": [
        "64.5% percent of visitors are coming from browser 2 followed by 19.9% from browser 1."
      ]
    },
    {
      "cell_type": "code",
      "execution_count": null,
      "metadata": {
        "id": "We1jFUPAtjRC"
      },
      "outputs": [],
      "source": [
        "plot_categorical_data(df, 'OperatingSystems')"
      ]
    },
    {
      "cell_type": "markdown",
      "metadata": {
        "id": "tQkoWnxEtzbA"
      },
      "source": [
        "* More than 50% of people visiting the site are using operating system 2.\n",
        "* Around 95% of people visiting are coming from major three operating systems - os 2 (53.5%), os 1 (21%), os 3 (21%)\n"
      ]
    },
    {
      "cell_type": "code",
      "execution_count": null,
      "metadata": {
        "id": "ub77D0I6uX_p"
      },
      "outputs": [],
      "source": [
        "plot_categorical_data(df, 'Administrative')"
      ]
    },
    {
      "cell_type": "markdown",
      "metadata": {
        "id": "4qUd0PvkujBf"
      },
      "source": [
        "* users tend to visit page 0 the most often."
      ]
    },
    {
      "cell_type": "code",
      "execution_count": null,
      "metadata": {
        "id": "9Kt0BM54uqIb"
      },
      "outputs": [],
      "source": [
        "plot_categorical_data(df, 'Informational')"
      ]
    },
    {
      "cell_type": "markdown",
      "metadata": {
        "id": "1j9Y2_bsu1_J"
      },
      "source": [
        "we can see that Information page 0 has the highest number of visitors."
      ]
    },
    {
      "cell_type": "code",
      "execution_count": null,
      "metadata": {
        "id": "C8p6sNkXvjAz"
      },
      "outputs": [],
      "source": [
        "plot_categorical_data(df, 'SpecialDay')"
      ]
    },
    {
      "cell_type": "markdown",
      "metadata": {
        "id": "lC0hjqnAvq0w"
      },
      "source": [
        "we can see that special days (e.g. public holidays) have no impact on the number of visitors to our website."
      ]
    },
    {
      "cell_type": "code",
      "execution_count": null,
      "metadata": {
        "id": "mkWjP2uSmPIk"
      },
      "outputs": [],
      "source": [
        "continuous_features = ['Administrative_Duration', \n",
        "                       'Informational_Duration', \n",
        "                       'ProductRelated_Duration', \n",
        "                       'BounceRates', \n",
        "                       'ExitRates', \n",
        "                       'PageValues']\n",
        "\n",
        "fig, axs = plt.subplots(nrows=3, ncols=2, figsize=(15,20))\n",
        "axs = np.ravel(axs)\n",
        "for i, col in enumerate(continuous_features):\n",
        "    plt.sca(axs[i])\n",
        "    sns.histplot(data=df, x=col, kde=True, line_kws={'lw':2, 'ls':'--'}, color='orange')\n",
        "\n",
        "plt.suptitle(\"Distribution Plot of Continuous Features\", fontsize=18, color='#05445E', va='bottom')\n",
        "plt.tight_layout()\n",
        "plt.show()"
      ]
    },
    {
      "cell_type": "markdown",
      "metadata": {
        "id": "1rfJBjPvENVz"
      },
      "source": [
        "**PART II**"
      ]
    },
    {
      "cell_type": "code",
      "execution_count": null,
      "metadata": {
        "id": "Wkp9lVfNPjW_"
      },
      "outputs": [],
      "source": [
        "corr = df.corr()\n",
        "\n",
        "# Plot a heatmap of the correlation matrix\n",
        "plt.figure(figsize=(10, 10))\n",
        "sns.heatmap(corr, cmap=\"YlGnBu\", annot=True, fmt=\".2f\")\n",
        "plt.title(\"Pairwise Correlations between Features\")\n",
        "plt.show()\n"
      ]
    },
    {
      "cell_type": "markdown",
      "metadata": {
        "id": "e3nMAb42GpRD"
      },
      "source": [
        "**MULTIVARIATE ANALYSIS**"
      ]
    },
    {
      "cell_type": "code",
      "execution_count": null,
      "metadata": {
        "id": "WPm8fGS0QI7S"
      },
      "outputs": [],
      "source": [
        "# Create two reporting quality visuals demonstrating key findings\n",
        "plt.figure(figsize=(10, 5))\n",
        "sns.countplot(x='VisitorType', hue='Revenue', data=df)\n",
        "plt.title(\"Visitor Type and Revenue\")\n",
        "plt.show()"
      ]
    },
    {
      "cell_type": "markdown",
      "metadata": {
        "id": "s3rP-rQHYUXZ"
      },
      "source": [
        "The returning visitors seem to make more purchases that new visitors "
      ]
    },
    {
      "cell_type": "code",
      "execution_count": null,
      "metadata": {
        "id": "XaZLIVA7g6hf"
      },
      "outputs": [],
      "source": [
        "# Create two reporting quality visuals demonstrating key findings\n",
        "plt.figure(figsize=(10, 5))\n",
        "sns.countplot(x='VisitorType', hue='Revenue', data=df)\n",
        "plt.title(\"Visitor Type and Revenue\")\n",
        "plt.show()"
      ]
    },
    {
      "cell_type": "markdown",
      "metadata": {
        "id": "nP2OaTbYhFWC"
      },
      "source": [
        "The highest number of Visitors are in May but the Highest number of sales are in November. this shows that the Amount of revenue might not be so much onfluenced by the number of visitors however much May might have seen the second highest number of sales probably as a result of the high number of visitors"
      ]
    },
    {
      "cell_type": "code",
      "execution_count": null,
      "metadata": {
        "id": "Iq_wUWLZnhwX"
      },
      "outputs": [],
      "source": [
        "import calendar\n",
        "\n",
        "# create a dictionary to map month abbreviations to their corresponding numerical values\n",
        "month_dict = {month: index for index, month in enumerate(calendar.month_abbr) if month}\n",
        "\n",
        "# create a bar plot to compare month, revenue and special days\n",
        "plt.figure(figsize=(12, 6))\n",
        "sns.barplot(x=\"Month\", y=\"Revenue\", hue=\"SpecialDay\", data=df, order=sorted(df['Month'].unique(), key=lambda x: month_dict[x]), errorbar=None)\n",
        "plt.title(\"Comparison/Relationship between Month, Revenue and Special Day\")\n",
        "plt.xlabel(\"Month\")\n",
        "plt.ylabel(\"Revenue\")\n",
        "plt.show()\n"
      ]
    },
    {
      "cell_type": "markdown",
      "metadata": {
        "id": "qaOQQF0BrJfC"
      },
      "source": [
        "Certain months, such as November and October, appear to have higher sales than other months. This suggests that timing marketing and promotional efforts around these months could be effective in driving sales.\n",
        "\n",
        "Visitors who visit the website on special days, such as Valentine's Day or Mother's Day, are more likely to make a purchase. This indicates that creating targeted campaigns and promotions around these special days could lead to increased sales."
      ]
    },
    {
      "cell_type": "code",
      "execution_count": null,
      "metadata": {
        "id": "39ci-gLUxFXZ"
      },
      "outputs": [],
      "source": [
        "# import calendar\n",
        "\n",
        "# create a dictionary to map month abbreviations to their corresponding numerical values\n",
        "month_dict = {month: index for index, month in enumerate(calendar.month_abbr) if month}\n",
        "\n",
        "# create a bar plot to compare month, revenue and special days\n",
        "plt.figure(figsize=(12, 6))\n",
        "sns.barplot(x=\"Month\", y=\"Revenue\", hue=\"VisitorType\", data=df, order=sorted(df['Month'].unique(), key=lambda x: month_dict[x]), errorbar=None)\n",
        "plt.title(\"Comparison/Relationship between Month, Revenue and Special Day\")\n",
        "plt.xlabel(\"Month\")\n",
        "plt.ylabel(\"Revenue\")\n",
        "plt.show()\n"
      ]
    },
    {
      "cell_type": "code",
      "execution_count": null,
      "metadata": {
        "id": "4F5u01PzEMRz"
      },
      "outputs": [],
      "source": [
        "# compute pairwise correlation of columns\n",
        "corr_matrix = df.corr()\n"
      ]
    },
    {
      "cell_type": "code",
      "execution_count": null,
      "metadata": {
        "id": "Q-corQ7kHJbn"
      },
      "outputs": [],
      "source": [
        "# Display the correlations between the target and other features\n",
        "target_corr = corr_matrix['Revenue'].sort_values(ascending=False)\n",
        "print(target_corr)"
      ]
    },
    {
      "cell_type": "code",
      "execution_count": null,
      "metadata": {
        "id": "UyofHoR-HX-b"
      },
      "outputs": [],
      "source": [
        "sns.pairplot(df, vars=['ProductRelated', 'BounceRates', 'ExitRates'], hue='Revenue')\n",
        "plt.suptitle('Pair Plot', y=1.05)\n",
        "plt.show()"
      ]
    },
    {
      "cell_type": "markdown",
      "metadata": {
        "id": "ccdiVgSnHlr1"
      },
      "source": [
        "This pair plot displays the relationships between ProductRelated, BounceRates, and ExitRates, and how they relate to our target (Revenue). By using different colors to indicate whether the target is True or False, we can see how each feature is related to our target."
      ]
    },
    {
      "cell_type": "code",
      "execution_count": null,
      "metadata": {
        "id": "nB2VtirREbCj"
      },
      "outputs": [],
      "source": [
        "sns.scatterplot(data=df, x='Administrative', y='ProductRelated', hue='Revenue')\n",
        "plt.title('Scatter plot of Administrative and Product Related page views')\n",
        "plt.show()\n"
      ]
    },
    {
      "cell_type": "code",
      "execution_count": null,
      "metadata": {
        "id": "w42lsWZGaesH"
      },
      "outputs": [],
      "source": [
        "# from sklearn.model_selection import train_test_split\n",
        "from sklearn.preprocessing import StandardScaler, OneHotEncoder\n",
        "from sklearn.ensemble import RandomForestClassifier\n",
        "from sklearn.tree import DecisionTreeClassifier\n",
        "from sklearn.impute import SimpleImputer\n",
        "from sklearn.compose import make_column_transformer, make_column_selector\n",
        "from sklearn.pipeline import make_pipeline\n",
        "from sklearn.model_selection import train_test_split\n",
        "from sklearn import set_config\n",
        "set_config(display='diagram')\n",
        "\n",
        "# \n",
        "# Load libraries\n",
        "# import pandas as pd\n",
        "# from sklearn.model_selection import train_test_split # Import train_test_split function\n",
        "from sklearn import metrics #Import scikit-learn metrics module for accuracy calculation\n"
      ]
    },
    {
      "cell_type": "code",
      "execution_count": null,
      "metadata": {
        "id": "DR1XUwzxzNzt"
      },
      "outputs": [],
      "source": [
        "# Perform one-hot encoding on categorical variables\n",
        "df = pd.get_dummies(df)\n",
        "\n",
        "# Split data into training and testing sets\n",
        "X = df.drop('Revenue', axis=1)\n",
        "y = df['Revenue']\n",
        "X_train, X_test, y_train, y_test = train_test_split(X, y, test_size=0.2, random_state=42)\n",
        "\n",
        "# Train Decision Tree classifier\n",
        "clf = DecisionTreeClassifier(random_state=42)\n",
        "clf.fit(X_train, y_train)"
      ]
    },
    {
      "cell_type": "code",
      "execution_count": null,
      "metadata": {
        "id": "q32BKoUK2m5P"
      },
      "outputs": [],
      "source": [
        "importances = clf.feature_importances_\n"
      ]
    },
    {
      "cell_type": "code",
      "execution_count": null,
      "metadata": {
        "id": "0tdtjro22vw7"
      },
      "outputs": [],
      "source": [
        "# determine which features are more important than others when assessing the revenue/target\n",
        "\n",
        "indices = np.argsort(importances)[::-1]\n",
        "names = [X_train.columns[i] for i in indices]\n",
        "\n",
        "fig, (ax1,ax2) = plt.subplots(1, 2, figsize=(12, 6))\n",
        "\n",
        "# First subplot: Feature importance as raw values\n",
        "ax1.set_title(\"Feature Importance\")\n",
        "ax1.bar(range(X_train.shape[1]), importances[indices],color='orange')\n",
        "ax1.set_xticks(range(X_train.shape[1]))\n",
        "ax1.set_xticklabels(names, rotation=90)\n",
        "ax1.set_xlabel('Features')\n",
        "ax1.set_ylabel('Importance')\n",
        "\n",
        "# Second subplot: Feature importance as percentages\n",
        "importances_perc = 100.0 * (importances / importances.max())\n",
        "ax2.set_title(\"Feature Importance in %\")\n",
        "ax2.bar(range(X_train.shape[1]), importances_perc[indices],color='purple')\n",
        "ax2.set_xticks(range(X_train.shape[1]))\n",
        "ax2.set_xticklabels(names, rotation=90,)\n",
        "ax2.set_xlabel('Features')\n",
        "ax2.set_ylabel('Relative Importance (%)')\n",
        "\n",
        "plt.tight_layout()\n",
        "plt.show()"
      ]
    },
    {
      "cell_type": "markdown",
      "metadata": {
        "id": "tOZLF_KM_2G3"
      },
      "source": [
        "Feature importance is a technique used in machine learning to identify the most important features that contribute to a model's performance in predicting a target variable. This is done by calculating the impact or contribution of each feature towards predicting the target variable. \n",
        "\n",
        "The feature importance values can then be ranked to identify the most important features that should be given more attention when making predictions. The higher the feature importance value, the more important the feature is in predicting the target variable. This technique helps to understand which features have the strongest impact on the target variable and can be used to guide feature selection and model optimization."
      ]
    },
    {
      "cell_type": "code",
      "execution_count": null,
      "metadata": {
        "id": "03smbVK8yNLn"
      },
      "outputs": [],
      "source": [
        "rf_model = RandomForestClassifier(random_state=42)\n",
        "rf_model.fit(X, y)\n",
        "\n",
        "# Rank feature importance\n",
        "importances = pd.DataFrame({'Feature': X.columns, 'Importance': rf_model.feature_importances_})\n",
        "importances.sort_values('Importance', ascending=False, inplace=True)\n",
        "\n",
        "# Calculate feature importance percentages\n",
        "importances['Importance_perc'] = (importances['Importance'] / importances['Importance'].sum()) * 100\n",
        "\n",
        "# Plot feature importance as a bar graph\n",
        "plt.figure(figsize=(10, 6))\n",
        "plt.bar(importances['Feature'], importances['Importance_perc'], color='#FFA500')\n",
        "plt.xticks(rotation=90)\n",
        "plt.title('Feature Importance', fontsize=14)\n",
        "plt.xlabel('Features', fontsize=12)\n",
        "plt.ylabel('Importance (%)', fontsize=12)\n",
        "plt.show()\n"
      ]
    },
    {
      "cell_type": "code",
      "execution_count": null,
      "metadata": {
        "id": "_GGjc91lMNwG"
      },
      "outputs": [],
      "source": [
        "df.head()"
      ]
    },
    {
      "cell_type": "code",
      "execution_count": null,
      "metadata": {
        "id": "kFCs3iQvHZMi"
      },
      "outputs": [],
      "source": [
        "# Instantiate Standard Scaler\n",
        "scaler = StandardScaler()\n",
        "# Fit & transform data.\n",
        "scaled_df = scaler.fit_transform(df)\n"
      ]
    },
    {
      "cell_type": "code",
      "execution_count": null,
      "metadata": {
        "id": "jDSftP7HMxEZ"
      },
      "outputs": [],
      "source": [
        "# \n",
        "from sklearn.cluster import KMeans\n",
        "\n",
        "# Generate random data\n",
        "np.random.seed(42)\n",
        "X = np.random.randn(100, 2)\n",
        "\n",
        "# Perform KMeans clustering\n",
        "kmeans = KMeans(n_clusters=2, random_state=42)\n",
        "kmeans.fit(X)\n",
        "\n",
        "# Visualize the clusters\n",
        "plt.figure(figsize=(8, 6))\n",
        "plt.scatter(X[:, 0], X[:, 1], c=kmeans.labels_)\n",
        "plt.title(\"KMeans Clustering\")\n",
        "plt.xlabel(\"Feature 1\")\n",
        "plt.ylabel(\"Feature 2\")\n",
        "plt.show()\n"
      ]
    },
    {
      "cell_type": "code",
      "execution_count": null,
      "metadata": {
        "id": "k1h3qw-yNzVy"
      },
      "outputs": [],
      "source": [
        "# Instantiate KMeans\n",
        "kmeans = KMeans(n_clusters = 2)\n",
        "kmeans.fit(scaled_df)"
      ]
    },
    {
      "cell_type": "code",
      "execution_count": null,
      "metadata": {
        "id": "0Cj-qjWkN_xH"
      },
      "outputs": [],
      "source": [
        "# Select the columns of interest\n",
        "cols = [ 'ExitRates', 'PageValues']\n",
        "data = df[cols]\n",
        "\n",
        "# Normalize the data\n",
        "data = (data - data.mean()) / data.std()\n",
        "\n",
        "# Cluster the data using k-means\n",
        "kmeans = KMeans(n_clusters=2, random_state=42).fit(data)\n",
        "\n",
        "# Visualize the clusters\n",
        "plt.scatter(data.iloc[:, 0], data.iloc[:, 1], c=kmeans.labels_)\n",
        "plt.xlabel(cols[0])\n",
        "plt.ylabel(cols[1])\n",
        "plt.title('K-Means Clustering')\n",
        "plt.show()"
      ]
    },
    {
      "cell_type": "markdown",
      "metadata": {
        "id": "uxEwcUbm9P0Y"
      },
      "source": [
        "this can help stakeholders know whether it amount of time spent on a page is influenced by the User Interface"
      ]
    },
    {
      "cell_type": "code",
      "execution_count": null,
      "metadata": {
        "id": "hVkdYwRg7pco"
      },
      "outputs": [],
      "source": [
        "# Save the cluster labels to the dataframe \n",
        "df['cluster'] = kmeans.labels_\n",
        "# Visualize the clusters\n",
        "plt.scatter(df['ProductRelated_Duration'], df['Revenue'], c = df['cluster'])\n",
        "plt.xlabel('ProductRelated_Duration')\n",
        "plt.ylabel('Revenue')\n",
        "plt.title('Clusters of Product duration & Revenue Varieties');\n"
      ]
    },
    {
      "cell_type": "markdown",
      "metadata": {
        "id": "GKE72QuRb2WD"
      },
      "source": [
        "PART 4"
      ]
    },
    {
      "cell_type": "code",
      "execution_count": null,
      "metadata": {
        "id": "NPginG_f3x60"
      },
      "outputs": [],
      "source": []
    },
    {
      "cell_type": "markdown",
      "metadata": {
        "id": "QQegg6VnySxS"
      },
      "source": [
        "## Data preprocessing"
      ]
    },
    {
      "cell_type": "code",
      "execution_count": null,
      "metadata": {
        "id": "b7FldZ2B3Bq2"
      },
      "outputs": [],
      "source": [
        "df= pd.read_csv('/content/drive/MyDrive/Colab Notebooks/Coding Dojo/Project 2/online_shoppers_intention.csv')\n",
        "df.head(-1)"
      ]
    },
    {
      "cell_type": "code",
      "execution_count": null,
      "metadata": {
        "id": "1zfWEDeoySxV"
      },
      "outputs": [],
      "source": [
        "df.columns"
      ]
    },
    {
      "cell_type": "code",
      "execution_count": null,
      "metadata": {
        "colab": {
          "background_save": true
        },
        "id": "mYyZgmAeySxX",
        "outputId": "389d8630-67a6-42e7-8033-3dd3370976f2"
      },
      "outputs": [
        {
          "data": {
            "text/plain": [
              "['Administrative',\n",
              " 'Administrative_Duration',\n",
              " 'Informational',\n",
              " 'Informational_Duration',\n",
              " 'ProductRelated',\n",
              " 'ProductRelated_Duration',\n",
              " 'BounceRates',\n",
              " 'ExitRates',\n",
              " 'PageValues',\n",
              " 'SpecialDay',\n",
              " 'Month',\n",
              " 'OperatingSystems',\n",
              " 'Browser',\n",
              " 'Region',\n",
              " 'TrafficType',\n",
              " 'VisitorType',\n",
              " 'Weekend']"
            ]
          },
          "execution_count": 372,
          "metadata": {},
          "output_type": "execute_result"
        }
      ],
      "source": [
        "label=\"Revenue\"\n",
        "features=list(data.columns)\n",
        "features.remove(label)\n",
        "features"
      ]
    },
    {
      "cell_type": "code",
      "execution_count": null,
      "metadata": {
        "id": "rElu24zWySxY"
      },
      "outputs": [],
      "source": [
        "\n",
        "cat_features = []\n",
        "for fet in features:\n",
        "    if len(data[fet].value_counts()) <20:\n",
        "        cat_features.append(fet)\n",
        "cat_features"
      ]
    },
    {
      "cell_type": "code",
      "execution_count": null,
      "metadata": {
        "id": "twZ7SsZyySxY"
      },
      "outputs": [],
      "source": [
        "from sklearn.preprocessing import LabelEncoder\n",
        "from sklearn.preprocessing import OneHotEncoder\n",
        "\n",
        "for c in cat_features:\n",
        "    le = LabelEncoder()\n",
        "    le.fit(data[c])\n",
        "    data[c] = le.transform(data[c])\n",
        "  \n",
        "for i in cat_features:\n",
        "  data = pd.get_dummies(data, prefix=[i], columns = [i])\n",
        "\n",
        "## EDA\n",
        "\n",
        "classes=list(data[label].unique())\n",
        "classes\n",
        "\n",
        "classes = pd.value_counts(data[label], sort = True)"
      ]
    },
    {
      "cell_type": "code",
      "execution_count": null,
      "metadata": {
        "id": "nhCj9VkaySxa"
      },
      "outputs": [],
      "source": [
        "classes=list(data[label].unique())\n",
        "classes\n",
        "\n",
        "classes = pd.value_counts(data[label], sort = True)\n",
        "\n",
        "classes.plot(kind = 'bar', rot=0)\n",
        "\n",
        "plt.title(\"Class Distribution\")\n",
        "\n",
        "plt.xticks(range(2), classes)\n",
        "\n",
        "plt.xlabel(\"Class\")\n",
        "\n",
        "plt.ylabel(\"Frequency\")"
      ]
    },
    {
      "cell_type": "code",
      "execution_count": null,
      "metadata": {
        "id": "exLy7W4dySxa"
      },
      "outputs": [],
      "source": [
        "features=list(data.columns)\n",
        "features.remove(label)\n",
        "features"
      ]
    },
    {
      "cell_type": "code",
      "execution_count": null,
      "metadata": {
        "id": "_dmBBFGBySxb"
      },
      "outputs": [],
      "source": [
        "#Create independent and Dependent Features\n",
        "columns = data.columns.tolist()\n",
        "\n",
        "# Define a random state \n",
        "state = np.random.RandomState(42)\n",
        "X = data[features]\n",
        "Y = data[label]\n",
        "X_outliers = state.uniform(low=0, high=1, size=(X.shape[0], X.shape[1]))\n",
        "# Print the shapes of X & Y\n",
        "print(X.shape)\n",
        "print(Y.shape)\n"
      ]
    },
    {
      "cell_type": "code",
      "execution_count": null,
      "metadata": {
        "id": "aZTzMAM9ySxc"
      },
      "outputs": [],
      "source": [
        "\n",
        "from sklearn.model_selection import train_test_split\n",
        "X, X_Test, Y,Y_Test = train_test_split(X, Y, test_size=0.2, random_state=0, stratify=Y)"
      ]
    },
    {
      "cell_type": "code",
      "execution_count": null,
      "metadata": {
        "id": "Nd4CrqXUwvEm"
      },
      "outputs": [],
      "source": [
        "df.columns"
      ]
    },
    {
      "cell_type": "code",
      "execution_count": null,
      "metadata": {
        "id": "fJWMd7MRwuKp"
      },
      "outputs": [],
      "source": [
        "label=\"Revenue\"\n",
        "features=list(df.columns)\n",
        "features.remove(label)\n",
        "features"
      ]
    },
    {
      "cell_type": "code",
      "execution_count": null,
      "metadata": {
        "id": "I5A-9CI801Wo"
      },
      "outputs": [],
      "source": [
        "\n",
        "cat_features = []\n",
        "for fet in features:\n",
        "    if len(data[fet].value_counts()) <20:\n",
        "        cat_features.append(fet)\n",
        "cat_features"
      ]
    },
    {
      "cell_type": "code",
      "execution_count": null,
      "metadata": {
        "id": "Pt7vMsBMr7G3"
      },
      "outputs": [],
      "source": [
        "y.value_counts()"
      ]
    },
    {
      "cell_type": "code",
      "execution_count": null,
      "metadata": {
        "id": "Ppri6f6er_R0"
      },
      "outputs": [],
      "source": [
        "y_test.value_counts()"
      ]
    },
    {
      "cell_type": "code",
      "execution_count": null,
      "metadata": {
        "id": "-OVopqoltISt"
      },
      "outputs": [],
      "source": [
        "from sklearn.metrics import f1_score\n",
        "from sklearn.metrics import accuracy_score\n",
        "from sklearn.metrics import cohen_kappa_score\n",
        "from sklearn.metrics import roc_auc_score,roc_curve\n",
        "import statsmodels.api as sm\n",
        "from sklearn.metrics import precision_score,recall_score\n",
        "#gives model report in dataframe\n",
        "def model_report(model,training_x,training_y,testing_x,testing_y,name) :\n",
        "    model.fit(training_x,training_y)\n",
        "    predictions  = model.predict(testing_x)\n",
        "    accuracy     = accuracy_score(testing_y,predictions)\n",
        "    recallscore  = recall_score(testing_y,predictions)\n",
        "    precision    = precision_score(testing_y,predictions)\n",
        "    roc_auc      = roc_auc_score(testing_y,predictions)\n",
        "    f1score      = f1_score(testing_y,predictions) \n",
        "    kappa_metric = cohen_kappa_score(testing_y,predictions)\n",
        "    \n",
        "    df = pd.DataFrame({\"Model\"           : [name],\n",
        "                       \"Accuracy_score\"  : [accuracy],\n",
        "                       \"Recall_score\"    : [recallscore],\n",
        "                       \"Precision\"       : [precision],\n",
        "                       \"f1_score\"        : [f1score],\n",
        "                       \"Area_under_curve\": [roc_auc],\n",
        "                       \"Kappa_metric\"    : [kappa_metric],\n",
        "                      })\n",
        "    return df"
      ]
    },
    {
      "cell_type": "code",
      "execution_count": null,
      "metadata": {
        "id": "KCf0l-vgu6p7"
      },
      "outputs": [],
      "source": [
        "from sklearn.linear_model import LogisticRegression\n",
        "\n",
        "logistic_model = LogisticRegression(random_state=1,solver='lbfgs', max_iter=10000)\n",
        "#outputs for every model\n",
        "model1 = model_report(logistic_model,X,y,X_test,y_test, \"Logistic Regression\")\n",
        "\n",
        "model1"
      ]
    },
    {
      "cell_type": "code",
      "execution_count": null,
      "metadata": {
        "id": "RL--j9IlvR7G"
      },
      "outputs": [],
      "source": []
    }
  ],
  "metadata": {
    "colab": {
      "provenance": [],
      "authorship_tag": "ABX9TyNjgTfhcXVaoestlUAYclEa",
      "include_colab_link": true
    },
    "kernelspec": {
      "display_name": "Python 3",
      "name": "python3"
    },
    "language_info": {
      "name": "python"
    }
  },
  "nbformat": 4,
  "nbformat_minor": 0
}